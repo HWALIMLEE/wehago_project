{
 "cells": [
  {
   "cell_type": "code",
   "execution_count": null,
   "metadata": {},
   "outputs": [],
   "source": [
    "import pandas as pd\n",
    "import numpy as np\n",
    "import matplotlib.pyplot as plt\n",
    "import gc\n",
    "\n",
    "from konlpy.tag import Mecab\n",
    "from sklearn.feature_extraction.text import TfidfVectorizer\n",
    "from sklearn.decomposition import PCA\n",
    "\n",
    "\n",
    "def show_table(df):\n",
    "    print('>>> shape :', df.shape)\n",
    "    print('>>> number of NA :', df.isna().sum().sum())\n",
    "    display(df.head(3))\n",
    "    display(df.tail(3))\n",
    "\n",
    "\n",
    "temp  = pd.read_csv('/home/jovyan/WIDE_HOME/Competition/data/경진대회데이터/품목적요데이터/적요_551.csv').drop(columns='Unnamed: 0')\n",
    "show_table(temp)"
   ]
  },
  {
   "cell_type": "code",
   "execution_count": null,
   "metadata": {},
   "outputs": [],
   "source": [
    "%%time\n",
    "vectorizer = TfidfVectorizer(ngram_range=(1,2), min_df=2)\n",
    "tagged_corpus_list = temp['적요'].apply(lambda x : ' '.join(Mecab().morphs(x))).tolist()\n",
    "\n",
    "# tf-idf vectorization\n",
    "sp_matrix = vectorizer.fit_transform(tagged_corpus_list)\n",
    "display(sp_matrix)\n",
    "\n",
    "# print sample tokens\n",
    "print('\\n>>> sample tokens :', np.random.choice(vectorizer.get_feature_names(), size=20))\n",
    "print('\\n>>> collected garbage :',gc.collect(), '\\n')"
   ]
  },
  {
   "cell_type": "code",
   "execution_count": null,
   "metadata": {},
   "outputs": [],
   "source": [
    "%%time\n",
    "# dim reduction using PCA\n",
    "pca = PCA(n_components=2, random_state=100)\n",
    "reduced_matrix = pca.fit_transform(sp_matrix.toarray())\n",
    "\n",
    "# check the reduced matrix\n",
    "print('>>> reduced_matrix :\\n', reduced_matrix)\n",
    "print('\\n>>> collected garbage :',gc.collect(), '\\n')"
   ]
  },
  {
   "cell_type": "code",
   "execution_count": null,
   "metadata": {},
   "outputs": [],
   "source": [
    "%%time\n",
    "# plot the reduced matrix\n",
    "plt.figure(figsize=(10, 10))\n",
    "plt.scatter(reduced_matrix[:, 0], reduced_matrix[:, 1], alpha=0.2)\n",
    "plt.show()"
   ]
  },
  {
   "cell_type": "code",
   "execution_count": null,
   "metadata": {},
   "outputs": [],
   "source": []
  },
  {
   "cell_type": "code",
   "execution_count": null,
   "metadata": {},
   "outputs": [],
   "source": []
  }
 ],
 "metadata": {
  "kernelspec": {
   "display_name": "Python 3",
   "language": "python",
   "name": "python3"
  },
  "language_info": {
   "codemirror_mode": {
    "name": "ipython",
    "version": 3
   },
   "file_extension": ".py",
   "mimetype": "text/x-python",
   "name": "python",
   "nbconvert_exporter": "python",
   "pygments_lexer": "ipython3",
   "version": "3.7.6"
  }
 },
 "nbformat": 4,
 "nbformat_minor": 4
}
