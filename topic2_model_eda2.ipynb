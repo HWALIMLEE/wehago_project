{
 "cells": [
  {
   "cell_type": "code",
   "execution_count": null,
   "metadata": {},
   "outputs": [],
   "source": [
    "import pandas as pd\n",
    "import numpy as np\n",
    "\n",
    "import seaborn as sns\n",
    "import matplotlib as mpl\n",
    "import matplotlib.pyplot as plt\n",
    "plt.rcParams['font.family'] = 'NanumGothic'\n",
    "# mpl.font_manager.fontManager.ttflist\n",
    "\n",
    "from glob import glob\n",
    "from collections import Counter\n",
    "\n",
    "import konlpy\n",
    "from konlpy.tag import Mecab\n",
    "\n",
    "import sklearn\n",
    "from sklearn.feature_extraction.text import CountVectorizer\n",
    "from sklearn.decomposition import LatentDirichletAllocation\n",
    "\n",
    "def show_table(df):\n",
    "    print('>>> shape :', df.shape)\n",
    "    print('>>> number of NA :', df.isna().sum().sum())\n",
    "    display(df.head(3))\n",
    "    display(df.tail(3))\n",
    "\n",
    "\n",
    "data_dir = '/home/jovyan/WIDE_HOME/'\n",
    "\n",
    "print(f'>>> original ver - pd : 1.0.3  |  np : 1.18.4  |  sns : 0.10.1  |  mpl : 3.3.2  |  konlpy : 0.5.2  |  sklearn : 0.23.1')\n",
    "print(f'>>>  present ver - pd : {pd.__version__}  |  np : {np.__version__}  |  sns : {sns.__version__}  |  mpl : {mpl.__version__}  |  konlpy : {konlpy.__version__}  |  sklearn : {sklearn.__version__}')"
   ]
  },
  {
   "cell_type": "markdown",
   "metadata": {},
   "source": [
    "## 데이터 로드 - 114개 적요 데이터"
   ]
  },
  {
   "cell_type": "code",
   "execution_count": null,
   "metadata": {},
   "outputs": [],
   "source": [
    "%%time\n",
    "\n",
    "# 114개 전체 품목적요데이터 로드\n",
    "memo_df = pd.read_csv(data_dir + '과제2_sam/품목적요데이터_통합_sam.csv')\n",
    "\n",
    "# 데이터 전처리 - 적요 결측 데이터 제외(2128건)\n",
    "memo_df = memo_df[memo_df['적요_parsed'].notna()]\n",
    "\n",
    "# 결과 확인\n",
    "show_table(memo_df)\n",
    "print('\\n')\n",
    "memo_df.info()\n",
    "print()"
   ]
  },
  {
   "cell_type": "markdown",
   "metadata": {},
   "source": [
    "## 탐색적 분석"
   ]
  },
  {
   "cell_type": "code",
   "execution_count": null,
   "metadata": {},
   "outputs": [],
   "source": [
    "# 구매/판매구분 분포\n",
    "col = '구매/판매구분'\n",
    "tmp_df = memo_df[col].value_counts()\n",
    "\n",
    "sns.countplot(data=memo_df, x=col, order=tmp_df.index, palette=['tomato', 'cornflowerblue'])\n",
    "for idx, val in enumerate(tmp_df):\n",
    "    plt.text(idx-0.2, 2e5, s=f'{val/10000:.2f}만\\n\\n({val/len(memo_df)*100:.1f}%)', color='white', weight='bold', size=15)\n",
    "\n",
    "plt.ylabel('빈도', size=20)\n",
    "plt.yticks(size=12)\n",
    "plt.xlabel(None)\n",
    "plt.xticks(size=15)\n",
    "plt.title(f'{col} 분포', size=20)\n",
    "\n",
    "plt.ticklabel_format(style='plain', axis='y')\n",
    "ax = plt.gca()\n",
    "ax.yaxis.set_label_coords(-0.2, 0.5)\n",
    "\n",
    "plt.show()"
   ]
  },
  {
   "cell_type": "code",
   "execution_count": null,
   "metadata": {},
   "outputs": [],
   "source": [
    "# 판매구매자_업종분류 분포\n",
    "for col, tmp_q, x_diff in zip(['판매구매자_업종대분류', '판매구매자_업종대분류 - 중분류', '판매구매자_업종대분류 - 중분류 - 소분류'], [0.9, 0.94, 0.94], [0.3, 0.2, 0.2]):\n",
    "    top_k = 3\n",
    "    \n",
    "    if col == '판매구매자_업종대분류':\n",
    "        tmp_df = memo_df[col].value_counts()\n",
    "    else:\n",
    "        tmp_df = memo_df[col].value_counts().head(15)\n",
    "\n",
    "    plt.figure(figsize=(30, 6))\n",
    "    sns.countplot(data=memo_df, x=col, order=tmp_df.index, palette=['tomato']*top_k + ['cornflowerblue']*(len(tmp_df)-top_k))\n",
    "    for idx, val in enumerate(tmp_df.values):\n",
    "        if idx < top_k:\n",
    "            y_val, msg, weight = tmp_df.quantile(tmp_q), f'  {val/10000:.0f}만\\n({val/len(memo_df)*100:.1f}%)', 'bold'\n",
    "        else:\n",
    "            y_val, msg, weight = tmp_df.quantile(tmp_q-0.05), f'{val/10000:.2f}만\\n ({val/len(memo_df)*100:.1f}%)', None\n",
    "        plt.text(idx-x_diff, y_val, s=msg, size=15, weight=weight)\n",
    "\n",
    "    plt.grid(axis='x', linestyle=':')\n",
    "    plt.ylabel('빈도', size=20)\n",
    "    plt.yticks(size=12)\n",
    "    plt.xlabel(None)\n",
    "    plt.xticks(rotation=45, ha='right', size=17, weight='bold')\n",
    "    plt.title(f'{col} 분포', size=25)\n",
    "\n",
    "    plt.ticklabel_format(style='plain', axis='y')\n",
    "#     ax = plt.gca()\n",
    "#     ax.yaxis.set_label_coords(-0.04, 0.5)\n",
    "    plt.show()\n",
    "    \n",
    "    print('\\n\\n')"
   ]
  },
  {
   "cell_type": "markdown",
   "metadata": {},
   "source": [
    "## 탐색적 분석 - 토큰별 빈도 "
   ]
  },
  {
   "cell_type": "code",
   "execution_count": null,
   "metadata": {},
   "outputs": [],
   "source": [
    "%%time\n",
    "tokens_list = ' '.join(memo_df['적요_parsed']).split()\n",
    "tokens_list[:10]"
   ]
  },
  {
   "cell_type": "code",
   "execution_count": null,
   "metadata": {},
   "outputs": [],
   "source": [
    "%%time\n",
    "# 최빈도 적요 확인\n",
    "pd.options.display.max_columns = 200  # default 20\n",
    "txt_count_ser = memo_df['적요'].value_counts(dropna=False)\n",
    "\n",
    "print('>>> 원본 적요별 빈도 테이블')\n",
    "display(txt_count_ser.head(200).to_frame().T)\n",
    "display(txt_count_ser.head(200).apply(lambda x : f'{x/len(memo_df)*100:.3f}%').to_frame().T)"
   ]
  },
  {
   "cell_type": "code",
   "execution_count": null,
   "metadata": {},
   "outputs": [],
   "source": [
    "%%time\n",
    "# 최빈도 토큰 확인\n",
    "token_count_ser = pd.Series(tokens_list).value_counts(dropna=False)\n",
    "\n",
    "print('\\n>>> 전체 토큰별 빈도 테이블')\n",
    "display(token_count_ser.head(200).to_frame().T)\n",
    "display(token_count_ser.head(200).apply(lambda x : f'{x/len(memo_df)*100:.3f}%').to_frame().T)"
   ]
  },
  {
   "cell_type": "code",
   "execution_count": null,
   "metadata": {},
   "outputs": [],
   "source": [
    "%%time\n",
    "# 최빈도 토큰 확인 (길이 1 이상)\n",
    "long_token_count_ser = token_count_ser[token_count_ser.index.str.len()>1]\n",
    "\n",
    "print('\\n>>> 길이 1 이상인 토큰별 빈도 테이블')\n",
    "display(long_token_count_ser.head(200).to_frame().T)\n",
    "display(long_token_count_ser.head(200).apply(lambda x : f'{x/len(memo_df)*100:.3f}%').to_frame().T)"
   ]
  },
  {
   "cell_type": "code",
   "execution_count": null,
   "metadata": {},
   "outputs": [],
   "source": [
    "file_list = glob('/home/jovyan/WIDE_HOME/Competition/data/경진대회데이터/품목적요데이터/*.csv')\n",
    "print([i.split('/')[-1] for i in file_list][:10])"
   ]
  },
  {
   "cell_type": "code",
   "execution_count": null,
   "metadata": {},
   "outputs": [],
   "source": [
    "pd.options.display.max_rows=500\n",
    "\n",
    "tmp_df = pd.read_csv(file_list[61])\n",
    "slicing_conditions = (tmp_df.적요.str.find('공사')!=-1) | (tmp_df.적요.str.find('수수료')!=-1) | (tmp_df.적요.str.find('매출')!=-1) | (tmp_df.적요.str.find('설치')!=-1) | (tmp_df.적요.str.find('카드')!=-1)\n",
    "display(tmp_df.loc[slicing_conditions].reset_index(drop=True).loc[:10])\n",
    "print(tmp_df.shape, tmp_df[slicing_conditions].shape, f'{tmp_df[slicing_conditions].shape[0]/tmp_df.shape[0]*100:.2f}%')\n",
    "# [tmp_df.판매구매자_업종대분류!='건설업']\n",
    "# tmp_df[tmp_df.적요.str.find('')!=-1]\n",
    "# tmp_df[tmp_df.적요.str.endswith('점')].reset_index(drop=True).loc[:10]"
   ]
  },
  {
   "cell_type": "code",
   "execution_count": null,
   "metadata": {},
   "outputs": [],
   "source": [
    "tmp_df['구매/판매구분'].value_counts(normalize=True).multiply(100).round(2)"
   ]
  },
  {
   "cell_type": "code",
   "execution_count": null,
   "metadata": {},
   "outputs": [],
   "source": [
    "for idx, file in enumerate(file_list):\n",
    "    if idx%10==0:print()\n",
    "    tmp_df = pd.read_csv(file)\n",
    "#     print(tmp_df.shape, tmp_df[tmp_df.적요.str.find('수수료')!=-1].shape)\n",
    "    print(round(tmp_df[(tmp_df.적요.str.find('공사')!=-1) | (tmp_df.적요.str.find('수수료')!=-1) | (tmp_df.적요.str.find('매출')!=-1) | (tmp_df.적요.str.find('설치')!=-1) | (tmp_df.적요.str.find('카드')!=-1)].shape[0]/tmp_df.shape[0]*100, 3), end='\\t\\t')"
   ]
  },
  {
   "cell_type": "code",
   "execution_count": null,
   "metadata": {},
   "outputs": [],
   "source": [
    "letter_list = ''.join(memo_df['적요'].apply(lambda x : x.replace(' ','')).tolist())\n",
    "letter_list"
   ]
  },
  {
   "cell_type": "code",
   "execution_count": null,
   "metadata": {},
   "outputs": [],
   "source": [
    "print(set(''.join(memo_df['적요'].head(100).apply( lambda x : ''.join(set(x.lower())) ))))"
   ]
  },
  {
   "cell_type": "code",
   "execution_count": null,
   "metadata": {},
   "outputs": [],
   "source": [
    "tmp_df[tmp_df['적요'].str.find('왯')!=-1]"
   ]
  },
  {
   "cell_type": "code",
   "execution_count": null,
   "metadata": {},
   "outputs": [],
   "source": [
    "# letter_list = set(''.join(tmp_df['적요'].apply( lambda x : ''.join(set(x.lower())) )))\n",
    "pd.Series(Counter(''.join(tmp_df['적요']))).sort_values(ascending=False).head(100).to_frame().T"
   ]
  },
  {
   "cell_type": "code",
   "execution_count": null,
   "metadata": {},
   "outputs": [],
   "source": []
  },
  {
   "cell_type": "code",
   "execution_count": null,
   "metadata": {},
   "outputs": [],
   "source": []
  }
 ],
 "metadata": {
  "kernelspec": {
   "display_name": "Python 3",
   "language": "python",
   "name": "python3"
  },
  "language_info": {
   "codemirror_mode": {
    "name": "ipython",
    "version": 3
   },
   "file_extension": ".py",
   "mimetype": "text/x-python",
   "name": "python",
   "nbconvert_exporter": "python",
   "pygments_lexer": "ipython3",
   "version": "3.7.6"
  }
 },
 "nbformat": 4,
 "nbformat_minor": 4
}
