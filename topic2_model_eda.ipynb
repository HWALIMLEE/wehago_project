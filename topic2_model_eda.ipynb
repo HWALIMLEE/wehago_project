{
 "cells": [
  {
   "cell_type": "code",
   "execution_count": null,
   "metadata": {},
   "outputs": [],
   "source": [
    "import pandas as pd\n",
    "import numpy as np\n",
    "\n",
    "import matplotlib.pyplot as plt\n",
    "\n",
    "import glob\n",
    "\n",
    "\n",
    "def show_table(df):\n",
    "    print('>>> shape :', df.shape)\n",
    "    print('>>> number of NA :', df.isna().sum().sum())\n",
    "    display(df.head(3))\n",
    "    display(df.tail(3))\n",
    "\n",
    "\n",
    "data_dir = '/home/jovyan/WIDE_HOME/Competition/data/경진대회데이터/'"
   ]
  },
  {
   "cell_type": "code",
   "execution_count": null,
   "metadata": {},
   "outputs": [],
   "source": [
    "# 디렉토리 확인\n",
    "!ls /home/jovyan/WIDE_HOME/Competition/data/경진대회데이터/"
   ]
  },
  {
   "cell_type": "code",
   "execution_count": null,
   "metadata": {},
   "outputs": [],
   "source": [
    "# 테이블 확인\n",
    "category_df = pd.read_csv(data_dir + '품목분류코드.csv')\n",
    "show_table(category_df)"
   ]
  },
  {
   "cell_type": "code",
   "execution_count": null,
   "metadata": {},
   "outputs": [],
   "source": [
    "# 전체 카테고리 확인\n",
    "display(pd.DataFrame(category_df.category.values.reshape(-1, 9)))"
   ]
  },
  {
   "cell_type": "code",
   "execution_count": null,
   "metadata": {},
   "outputs": [],
   "source": [
    "# 테이블 확인\n",
    "tmp_file = file_list[1]\n",
    "memo_df = pd.read_csv(tmp_file)\n",
    "\n",
    "print(tmp_file)\n",
    "show_table(memo_df)"
   ]
  },
  {
   "cell_type": "code",
   "execution_count": null,
   "metadata": {},
   "outputs": [],
   "source": [
    "# 등장빈도 최다 적요 확인\n",
    "memo_df.적요.value_counts().head(10)"
   ]
  },
  {
   "cell_type": "code",
   "execution_count": null,
   "metadata": {},
   "outputs": [],
   "source": [
    "# 특정 키워드가 포함된 적요 검색\n",
    "memo_df[memo_df.적요.str.find('올레 기가 인터넷 콤팩트 z')!=-1]"
   ]
  },
  {
   "cell_type": "code",
   "execution_count": null,
   "metadata": {},
   "outputs": [],
   "source": [
    "from konlpy.tag import Kkma, Komoran\n",
    "\n",
    "komoran = Komoran()\n",
    "memo_df['적요_parsed'] = memo_df.적요.str.strip().apply(komoran.morphs)\n",
    "show_table(memo_df)"
   ]
  },
  {
   "cell_type": "code",
   "execution_count": null,
   "metadata": {},
   "outputs": [],
   "source": [
    "r_list = []\n",
    "for tmp_list in memo_df.적요_parsed:\n",
    "    r_list += tmp_list\n",
    "\n",
    "r_df = pd.Series(r_list).value_counts().reset_index()\n",
    "r_df.columns = ['keyword', 'count']\n",
    "r_df['len'] = r_df['keyword'].apply(len)\n",
    "r_df[r_df.len>1].sort_values('count', ascending=False).reset_index(drop=True).head(20).T"
   ]
  },
  {
   "cell_type": "code",
   "execution_count": null,
   "metadata": {},
   "outputs": [],
   "source": [
    "%%time\n",
    "\n",
    "# 114개 전체 통합 데이터 로드\n",
    "memo_df = pd.concat([pd.read_csv(file).iloc[:, 1:] for file in file_list], ignore_index=True)\n",
    "show_table(memo_df)"
   ]
  },
  {
   "cell_type": "code",
   "execution_count": null,
   "metadata": {},
   "outputs": [],
   "source": [
    "memo_df.적요.value_counts().head(10)"
   ]
  },
  {
   "cell_type": "code",
   "execution_count": null,
   "metadata": {},
   "outputs": [],
   "source": [
    "tmp_df = memo_df[memo_df.적요.str.find('기장료')!=-1]\n",
    "print(tmp_df.shape)\n",
    "tmp_df.drop_duplicates('적요')"
   ]
  },
  {
   "cell_type": "code",
   "execution_count": null,
   "metadata": {},
   "outputs": [],
   "source": []
  },
  {
   "cell_type": "code",
   "execution_count": null,
   "metadata": {},
   "outputs": [],
   "source": []
  },
  {
   "cell_type": "code",
   "execution_count": null,
   "metadata": {},
   "outputs": [],
   "source": []
  },
  {
   "cell_type": "code",
   "execution_count": null,
   "metadata": {},
   "outputs": [],
   "source": []
  },
  {
   "cell_type": "code",
   "execution_count": null,
   "metadata": {},
   "outputs": [],
   "source": []
  },
  {
   "cell_type": "code",
   "execution_count": null,
   "metadata": {},
   "outputs": [],
   "source": []
  }
 ],
 "metadata": {
  "kernelspec": {
   "display_name": "Python 3",
   "language": "python",
   "name": "python3"
  },
  "language_info": {
   "codemirror_mode": {
    "name": "ipython",
    "version": 3
   },
   "file_extension": ".py",
   "mimetype": "text/x-python",
   "name": "python",
   "nbconvert_exporter": "python",
   "pygments_lexer": "ipython3",
   "version": "3.7.6"
  }
 },
 "nbformat": 4,
 "nbformat_minor": 4
}
